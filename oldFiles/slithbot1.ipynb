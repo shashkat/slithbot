{
 "cells": [
  {
   "cell_type": "code",
   "execution_count": null,
   "metadata": {},
   "outputs": [],
   "source": [
    "pip install tensorflow-metal"
   ]
  },
  {
   "cell_type": "code",
   "execution_count": null,
   "metadata": {},
   "outputs": [],
   "source": [
    "print(tf.__version__)\n"
   ]
  },
  {
   "cell_type": "code",
   "execution_count": 1,
   "metadata": {
    "scrolled": false
   },
   "outputs": [],
   "source": [
    "import tensorflow as tf\n",
    "from tensorflow import keras "
   ]
  },
  {
   "cell_type": "code",
   "execution_count": 2,
   "metadata": {},
   "outputs": [],
   "source": [
    "import random\n",
    "import time\n",
    "import cv2\n",
    "import numpy as np\n",
    "import mss\n",
    "import mss.tools\n",
    "from PIL import Image\n",
    "import pandas as pd\n",
    "import math\n",
    "from pynput.mouse import Button, Controller\n",
    "pd.set_option('display.max_columns', 1000)"
   ]
  },
  {
   "cell_type": "code",
   "execution_count": 3,
   "metadata": {},
   "outputs": [],
   "source": [
    "# this function takes a screenshot of a particular area of the screen\n",
    "# it also offers the ability to reduce the resolution by selection only every nth pixel...\n",
    "# there are certainly better ways to reduce the resolution, but this is where I started\n",
    "# it also lets you decide if you want to convert to grayscale.  \n",
    "def screenshot(height, width, x, y, reduction_factor = 1, gray = True):\n",
    "    \n",
    "    with mss.mss() as sct:\n",
    "        # The screen part to capture\n",
    "        region = {'left': x, 'top': y, 'width': width, 'height': height}\n",
    "\n",
    "        # Grab the data\n",
    "        img = sct.grab(region)\n",
    "\n",
    "        if gray:\n",
    "            result = cv2.cvtColor(np.array(img), cv2.COLOR_BGRA2GRAY)\n",
    "        else:\n",
    "            result = cv2.cvtColor(np.array(img), cv2.COLOR_BGRA2BGR)\n",
    "\n",
    "        img = result[::reduction_factor, ::reduction_factor]\n",
    "        return img"
   ]
  },
  {
   "cell_type": "code",
   "execution_count": 4,
   "metadata": {},
   "outputs": [],
   "source": [
    "# area of screen\n",
    "top = 153\n",
    "left = 3\n",
    "w = 593\n",
    "h = 470"
   ]
  },
  {
   "cell_type": "code",
   "execution_count": 5,
   "metadata": {},
   "outputs": [
    {
     "data": {
      "text/plain": [
       "(16, 20)"
      ]
     },
     "execution_count": 5,
     "metadata": {},
     "output_type": "execute_result"
    }
   ],
   "source": [
    "screenshot(h,w,left,top,reduction_factor=60).shape"
   ]
  },
  {
   "cell_type": "code",
   "execution_count": 6,
   "metadata": {},
   "outputs": [],
   "source": [
    "# taking training data, which includes mouse input and screen input in the form of regular screenshots\n",
    "# vel is not exactly velocity (speed and direction), but it is a combination of speed and position (a contradicktion of heisenberg's principle)\n",
    "mouse = Controller()\n",
    "def mouse_motion_ss(tme):\n",
    "     time.sleep(2)\n",
    "     ss_interval = 0.1\n",
    "     loop_length = tme/ss_interval #recording mouse motion/ss for a time duration of tme\n",
    "     mouse_vel_arr2 = []\n",
    "     ss_array2 = []\n",
    "     for i in range(int(loop_length)):\n",
    "          t1, t2 = mouse.position\n",
    "#           time.sleep(0.01)\n",
    "          ss_array2.append(screenshot(h,w,left,top,reduction_factor=60))\n",
    "#           time.sleep(0.01)\n",
    "#           t3, t4 = mouse.position\n",
    "#           speed = math.sqrt((t3-t1)*(t3-t1)+(t4-t2)*(t4-t2))\n",
    "          mouse_vel_arr2.append([t1,t2])\n",
    "          time.sleep(ss_interval)\n",
    "     \n",
    "     return mouse_vel_arr2, ss_array2"
   ]
  },
  {
   "cell_type": "code",
   "execution_count": 7,
   "metadata": {},
   "outputs": [],
   "source": [
    "# actaully executing the data recording\n",
    "mouse_vel2, ss_array2 = mouse_motion_ss(600)"
   ]
  },
  {
   "cell_type": "code",
   "execution_count": 8,
   "metadata": {},
   "outputs": [],
   "source": [
    "# convert the recorded data into storable form\n",
    "ss_array2 = np.array(ss_array2)\n",
    "ss_array2_reshaped = ss_array2.reshape(ss_array2.shape[0],ss_array2.shape[1]*ss_array2.shape[2])\n",
    "mouse_vel = np.array(mouse_vel2)"
   ]
  },
  {
   "cell_type": "code",
   "execution_count": 9,
   "metadata": {},
   "outputs": [],
   "source": [
    "# extract the already stored files, concatenate new data in them, and re-store them on disk\n",
    "temp = np.loadtxt('mouse_vel2.txt', dtype = 'float')\n",
    "temp2 = np.concatenate((temp,mouse_vel2))\n",
    "np.savetxt('mouse_vel2.txt', temp2, fmt = '%f')\n",
    "temp3 = np.loadtxt('ss_array2.txt', dtype = 'int')\n",
    "temp4 = np.concatenate((temp3, ss_array2_reshaped))\n",
    "np.savetxt('ss_array2.txt', temp4, fmt = '%d')"
   ]
  },
  {
   "cell_type": "code",
   "execution_count": 38,
   "metadata": {},
   "outputs": [],
   "source": [
    "# np.savetxt('ss_array2.txt', ss_array2_reshaped, fmt = '%d')\n",
    "# np.savetxt('mouse_vel2.txt', mouse_vel2, fmt = '%f')"
   ]
  },
  {
   "cell_type": "code",
   "execution_count": null,
   "metadata": {},
   "outputs": [],
   "source": [
    "%pwd"
   ]
  },
  {
   "cell_type": "code",
   "execution_count": null,
   "metadata": {},
   "outputs": [],
   "source": [
    "reconstructed_model = keras.models.load_model(\"model1\")"
   ]
  },
  {
   "cell_type": "code",
   "execution_count": null,
   "metadata": {},
   "outputs": [],
   "source": [
    "file = open('ss_array.txt', 'a')\n",
    "file.write(ss_array_reshaped)\n",
    "file2 = open('mouse_vel.txt', 'a')\n",
    "file2.write(mouse_vel)"
   ]
  },
  {
   "cell_type": "code",
   "execution_count": null,
   "metadata": {},
   "outputs": [],
   "source": [
    "ans = []\n",
    "temp2 = ''\n",
    "for i in range (120):\n",
    "     temp2 = temp2+temp[i]"
   ]
  },
  {
   "cell_type": "code",
   "execution_count": null,
   "metadata": {},
   "outputs": [],
   "source": [
    "file"
   ]
  },
  {
   "cell_type": "code",
   "execution_count": null,
   "metadata": {},
   "outputs": [],
   "source": [
    "mouse_vel[0]"
   ]
  },
  {
   "cell_type": "code",
   "execution_count": 17,
   "metadata": {},
   "outputs": [],
   "source": [
    "# from pynput import keyboard\n",
    "# # The event listener will be running in this block\n",
    "# with keyboard.Events() as events:\n",
    "#     # Block at most one second\n",
    "#     event = events.get(10)\n",
    "\n",
    "mouse = Controller()\n",
    "def move_mouse_random (h,w,left,top):\n",
    "     for j in range(100):\n",
    "          x = random.randint(left, left+w)\n",
    "          y = random.randint(top, top+h)\n",
    "          xc, yc = mouse.position\n",
    "          smoothness = 30\n",
    "          for i in range (smoothness):\n",
    "               mouse.position = ((xc+((x-xc)*i)/smoothness),(yc+((y-yc)*i)/smoothness))\n",
    "               time.sleep(1/smoothness)\n",
    "          if j == 0: mouse.click(Button.left,1)\n",
    "          print(x,y)\n",
    "          time.sleep(0.5)\n",
    "     return"
   ]
  },
  {
   "cell_type": "code",
   "execution_count": 20,
   "metadata": {
    "collapsed": true
   },
   "outputs": [
    {
     "name": "stdout",
     "output_type": "stream",
     "text": [
      "52 430\n",
      "576 401\n",
      "404 337\n",
      "315 472\n",
      "120 182\n",
      "452 401\n",
      "490 564\n",
      "414 400\n",
      "591 273\n",
      "441 433\n",
      "335 154\n",
      "551 298\n",
      "241 223\n",
      "305 259\n",
      "93 233\n",
      "582 251\n",
      "534 510\n",
      "173 280\n",
      "4 173\n",
      "96 380\n",
      "342 502\n",
      "410 415\n",
      "153 269\n",
      "399 568\n",
      "527 341\n",
      "131 253\n",
      "5 382\n",
      "440 361\n",
      "118 334\n",
      "211 189\n",
      "93 619\n",
      "181 284\n",
      "453 593\n",
      "497 538\n",
      "252 300\n",
      "43 336\n",
      "121 582\n",
      "127 361\n",
      "265 566\n",
      "417 443\n",
      "377 353\n",
      "552 508\n",
      "119 241\n",
      "201 345\n",
      "570 339\n",
      "12 567\n",
      "271 610\n",
      "527 411\n",
      "482 493\n",
      "18 181\n",
      "403 574\n",
      "419 281\n",
      "368 276\n",
      "520 547\n",
      "546 545\n",
      "63 548\n",
      "329 506\n",
      "200 215\n",
      "40 380\n",
      "506 584\n",
      "389 363\n",
      "95 374\n",
      "468 541\n",
      "371 365\n",
      "261 320\n",
      "460 594\n",
      "33 581\n",
      "469 271\n",
      "89 209\n",
      "155 450\n",
      "415 219\n",
      "328 196\n",
      "274 408\n",
      "71 320\n",
      "477 337\n",
      "336 419\n",
      "180 278\n",
      "210 263\n",
      "348 270\n",
      "554 240\n",
      "441 550\n",
      "274 478\n",
      "509 318\n",
      "552 572\n",
      "431 553\n",
      "329 541\n",
      "254 559\n",
      "207 566\n",
      "343 583\n",
      "128 199\n",
      "207 283\n",
      "410 549\n",
      "380 435\n",
      "439 554\n",
      "395 196\n",
      "122 354\n",
      "443 473\n",
      "310 288\n",
      "245 222\n",
      "585 189\n"
     ]
    }
   ],
   "source": [
    "move_mouse_random(h,w,left,top)"
   ]
  },
  {
   "cell_type": "code",
   "execution_count": 74,
   "metadata": {},
   "outputs": [],
   "source": [
    "temp_ss = np.array(screenshot(h,w,left,top,reduction_factor=30))\n",
    "temp_ss = np.reshape(temp_ss, (temp_ss.shape[0]*temp_ss.shape[1],))\n",
    "temp_ss = temp_ss/255"
   ]
  },
  {
   "cell_type": "code",
   "execution_count": 103,
   "metadata": {},
   "outputs": [
    {
     "data": {
      "text/plain": [
       "array([[1.        , 1.        , 1.        , ..., 1.        , 1.        ,\n",
       "        0.84705882]])"
      ]
     },
     "execution_count": 103,
     "metadata": {},
     "output_type": "execute_result"
    }
   ],
   "source": [
    "np.array([temp_ss])[[0]]"
   ]
  },
  {
   "cell_type": "code",
   "execution_count": 99,
   "metadata": {},
   "outputs": [],
   "source": [
    "temp_ss2 = []\n",
    "temp_ss2.append(temp_ss)\n",
    "temp_ss2 = np.array(temp_ss2)"
   ]
  },
  {
   "cell_type": "code",
   "execution_count": 100,
   "metadata": {},
   "outputs": [
    {
     "data": {
      "text/plain": [
       "array([[1.        , 1.        , 1.        , ..., 1.        , 1.        ,\n",
       "        0.84705882]])"
      ]
     },
     "execution_count": 100,
     "metadata": {},
     "output_type": "execute_result"
    }
   ],
   "source": [
    "temp_ss2[[0]]"
   ]
  },
  {
   "cell_type": "code",
   "execution_count": 105,
   "metadata": {},
   "outputs": [
    {
     "data": {
      "text/plain": [
       "0"
      ]
     },
     "execution_count": 105,
     "metadata": {},
     "output_type": "execute_result"
    }
   ],
   "source": [
    "np.argmax(model1.predict(np.array([temp_ss])[[0]]))*100"
   ]
  },
  {
   "cell_type": "code",
   "execution_count": 23,
   "metadata": {},
   "outputs": [],
   "source": [
    "mouse = Controller()\n",
    "def input_output (tme):\n",
    "    # initialize mouse position\n",
    "    init_ss = np.array(screenshot(h,w,left,top,reduction_factor=60))\n",
    "    init_ss = np.reshape(init_ss, (init_ss.shape[0]*init_ss.shape[1],))\n",
    "    init_ss = init_ss/255\n",
    "    mouse.position = (np.argmax(model1.predict(np.array([init_ss])[[0]]))*100, np.argmax(model2.predict(np.array([init_ss])[[0]]))*100)\n",
    "    mouse.click(Button.left,1)\n",
    "    for i in range(tme*10):\n",
    "        ss = np.array(screenshot(h,w,left,top,reduction_factor=60))\n",
    "        ss = np.reshape(ss, (ss.shape[0]*ss.shape[1],))\n",
    "        ss = ss/255\n",
    "#         speed = np.argmax(model3.predict(np.array([init_ss])[[0]]))*100\n",
    "        smoothness = 10\n",
    "        \n",
    "        x = np.argmax(model1.predict(np.array([ss])[[0]]))*100\n",
    "        y = np.argmax(model2.predict(np.array([ss])[[0]]))*100\n",
    "        \n",
    "        for j in range(smoothness):\n",
    "            frame_duration = 0.1/smoothness\n",
    "            xc, yc = mouse.position\n",
    "            mouse.position = ((xc+((x-xc)*(j+1))/smoothness),(yc+((y-yc)*(j+1))/smoothness))\n",
    "            time.sleep(frame_duration)\n",
    "        \n",
    "        "
   ]
  },
  {
   "cell_type": "code",
   "execution_count": 34,
   "metadata": {},
   "outputs": [],
   "source": [
    "input_output(60)"
   ]
  },
  {
   "cell_type": "code",
   "execution_count": 21,
   "metadata": {
    "collapsed": true
   },
   "outputs": [
    {
     "ename": "NameError",
     "evalue": "name 'Mouse' is not defined",
     "output_type": "error",
     "traceback": [
      "\u001b[0;31m---------------------------------------------------------------------------\u001b[0m",
      "\u001b[0;31mNameError\u001b[0m                                 Traceback (most recent call last)",
      "Input \u001b[0;32mIn [21]\u001b[0m, in \u001b[0;36m<cell line: 42>\u001b[0;34m()\u001b[0m\n\u001b[1;32m     39\u001b[0m start_button_position_y \u001b[38;5;241m=\u001b[39m \u001b[38;5;241m496\u001b[39m\n\u001b[1;32m     41\u001b[0m \u001b[38;5;66;03m# instantiate mouse\u001b[39;00m\n\u001b[0;32m---> 42\u001b[0m mouse \u001b[38;5;241m=\u001b[39m \u001b[43mMouse\u001b[49m()\n\u001b[1;32m     44\u001b[0m \u001b[38;5;66;03m# open slither.io\u001b[39;00m\n\u001b[1;32m     45\u001b[0m driver \u001b[38;5;241m=\u001b[39m open_and_size_browser_window(width \u001b[38;5;241m=\u001b[39m width, height \u001b[38;5;241m=\u001b[39m height)\n",
      "\u001b[0;31mNameError\u001b[0m: name 'Mouse' is not defined"
     ]
    }
   ],
   "source": [
    "# These are the dimensions of the window that I'm going to use\n",
    "window_x = 0.0\n",
    "window_y = 150 # The tool bar in chrome is 100 pixels (or so) tall\n",
    "\n",
    "# Too high resolution and the dataset gets too big.  This is the size of the window to create\n",
    "width = 600 \n",
    "height = 600\n",
    "\n",
    "# size of the game window (the playable area)\n",
    "window_width = width \n",
    "window_height = height - window_y\n",
    "\n",
    "# coordinates of the center of the game windows\n",
    "window_center_x = window_width/2\n",
    "window_center_y = window_y + window_height/2\n",
    "\n",
    "#######################\n",
    "# comment these out if you want to consider the whole window\n",
    "# this is so that you can easily consider less data if you want to\n",
    "size_of_window = 200.0\n",
    "window_x = window_center_x - size_of_window/2\n",
    "window_y = window_center_y - size_of_window/2\n",
    "window_width = size_of_window\n",
    "window_height = size_of_window\n",
    "#######################\n",
    "\n",
    "# Location of the score that is displayed on the screen\n",
    "# This will change if you change the dimensions of the window that you create.  \n",
    "# YOu can easily use mouse.position() to identify the new coordinates\n",
    "score_x = 83\n",
    "score_y = 630\n",
    "score_width = 91\n",
    "score_height = 25\n",
    "\n",
    "# position of the start button on the screen with these window settings\n",
    "# Note that the shape of the start button changes depending on whether it's a brand new game\n",
    "# or if you've just died\n",
    "start_button_position_x = 314\n",
    "start_button_position_y = 496\n",
    "\n",
    "# instantiate mouse\n",
    "mouse = Mouse()\n",
    "\n",
    "# open slither.io\n",
    "driver = open_and_size_browser_window(width = width, height = height)\n",
    "\n",
    "# make some data\n",
    "generate_data(delete_file = True, verbose = True)"
   ]
  },
  {
   "cell_type": "code",
   "execution_count": null,
   "metadata": {},
   "outputs": [],
   "source": [
    "# from pynput import keyboard\n",
    "\n",
    "# # The event listener will be running in this block\n",
    "# with keyboard.Events() as events:\n",
    "#     # Block at most one second\n",
    "#     event = events.get(10)\n",
    "#     if event is None:\n",
    "#         print('You did not press a key within one second')\n",
    "#     else:\n",
    "#         print('Received event {}'.format(event))"
   ]
  },
  {
   "cell_type": "code",
   "execution_count": null,
   "metadata": {},
   "outputs": [],
   "source": [
    "# from pynput.keyboard import Key,Controller\n",
    "# keyboard = Controller()\n",
    "# keyboard.press()"
   ]
  },
  {
   "cell_type": "code",
   "execution_count": null,
   "metadata": {},
   "outputs": [],
   "source": [
    "# region = {'left': left, 'top': top, 'width': w, 'height': h}\n",
    "# screenshot = mss.mss().grab(region)\n",
    "# img = Image.frombytes(\"RGB\", screenshot.size, screenshot.bgra, \"raw\", \"BGRX\")  # Convert to PIL.Image\n",
    "# img.show()"
   ]
  },
  {
   "cell_type": "code",
   "execution_count": null,
   "metadata": {},
   "outputs": [],
   "source": [
    "# def ss_take(tme, h, w, left, top):\n",
    "     #      time.sleep(2.01)\n",
    "#      ss_interval = 0.1\n",
    "#      ss_array = []\n",
    "#      loop_length = tme/ss_interval #recording mouse motion for a time duration of tme\n",
    "#      for i in range(int(loop_length)):\n",
    "#           ss_array.append(screenshot(h,w,left,top))\n",
    "#           time.sleep(ss_interval)\n",
    "#      return ss_array"
   ]
  },
  {
   "cell_type": "code",
   "execution_count": 58,
   "metadata": {},
   "outputs": [
    {
     "data": {
      "text/plain": [
       "19800"
      ]
     },
     "execution_count": 58,
     "metadata": {},
     "output_type": "execute_result"
    }
   ],
   "source": []
  },
  {
   "cell_type": "code",
   "execution_count": 10,
   "metadata": {},
   "outputs": [],
   "source": [
    "import tensorflow as tf\n",
    "from tensorflow import keras\n",
    "import matplotlib.pyplot as plt\n",
    "%matplotlib inline\n",
    "import numpy as np\n",
    "import pandas as pd\n",
    "\n",
    "#loading files\n",
    "y = np.loadtxt('mouse_vel2.txt', dtype = 'float')\n",
    "X = np.loadtxt('ss_array2.txt', dtype = 'int')\n",
    "\n",
    "# three models\n",
    "y1 = []\n",
    "y2 = []\n",
    "# y3 = []\n",
    "for i in range(len(y)):\n",
    "  y1.append(int(y[i][0]/100))\n",
    "  y2.append(int(y[i][1]/100))\n",
    "#   y3.append(int(y[i][2]/100))\n",
    "\n",
    "# preprocessing X\n",
    "X_scaled = X/255\n",
    "X_list = []\n",
    "for i in range (len(X)):\n",
    "  tmp = X_scaled[i].tolist()\n",
    "  X_list.append(tmp)"
   ]
  },
  {
   "cell_type": "code",
   "execution_count": 11,
   "metadata": {},
   "outputs": [
    {
     "name": "stderr",
     "output_type": "stream",
     "text": [
      "2022-06-16 19:03:06.542397: I tensorflow/core/common_runtime/pluggable_device/pluggable_device_factory.cc:305] Could not identify NUMA node of platform GPU ID 0, defaulting to 0. Your kernel may not have been built with NUMA support.\n",
      "2022-06-16 19:03:06.543266: I tensorflow/core/common_runtime/pluggable_device/pluggable_device_factory.cc:271] Created TensorFlow device (/job:localhost/replica:0/task:0/device:GPU:0 with 0 MB memory) -> physical PluggableDevice (device: 0, name: METAL, pci bus id: <undefined>)\n"
     ]
    },
    {
     "name": "stdout",
     "output_type": "stream",
     "text": [
      "Metal device set to: Apple M1\n"
     ]
    },
    {
     "name": "stderr",
     "output_type": "stream",
     "text": [
      "2022-06-16 19:03:19.324728: I tensorflow/compiler/mlir/mlir_graph_optimization_pass.cc:176] None of the MLIR Optimization Passes are enabled (registered 2)\n",
      "2022-06-16 19:03:19.330755: W tensorflow/core/platform/profile_utils/cpu_utils.cc:128] Failed to get CPU frequency: 0 Hz\n"
     ]
    },
    {
     "name": "stdout",
     "output_type": "stream",
     "text": [
      "Epoch 1/15\n"
     ]
    },
    {
     "name": "stderr",
     "output_type": "stream",
     "text": [
      "2022-06-16 19:03:19.640698: I tensorflow/core/grappler/optimizers/custom_graph_optimizer_registry.cc:112] Plugin optimizer for device_type GPU is enabled.\n"
     ]
    },
    {
     "name": "stdout",
     "output_type": "stream",
     "text": [
      "795/795 [==============================] - 7s 8ms/step - loss: 1.6162 - accuracy: 0.2480\n",
      "Epoch 2/15\n",
      "795/795 [==============================] - 7s 9ms/step - loss: 1.5672 - accuracy: 0.2816\n",
      "Epoch 3/15\n",
      "795/795 [==============================] - 6s 8ms/step - loss: 1.5176 - accuracy: 0.3336\n",
      "Epoch 4/15\n",
      "795/795 [==============================] - 7s 8ms/step - loss: 1.4375 - accuracy: 0.3848\n",
      "Epoch 5/15\n",
      "795/795 [==============================] - 7s 8ms/step - loss: 1.3542 - accuracy: 0.4298\n",
      "Epoch 6/15\n",
      "795/795 [==============================] - 6s 8ms/step - loss: 1.2608 - accuracy: 0.4711\n",
      "Epoch 7/15\n",
      "795/795 [==============================] - 7s 9ms/step - loss: 1.1645 - accuracy: 0.5141\n",
      "Epoch 8/15\n",
      "795/795 [==============================] - 6s 8ms/step - loss: 1.0696 - accuracy: 0.5582\n",
      "Epoch 9/15\n",
      "795/795 [==============================] - 6s 8ms/step - loss: 0.9742 - accuracy: 0.5994\n",
      "Epoch 10/15\n",
      "795/795 [==============================] - 6s 8ms/step - loss: 0.8854 - accuracy: 0.6420\n",
      "Epoch 11/15\n",
      "795/795 [==============================] - 6s 7ms/step - loss: 0.7965 - accuracy: 0.6825\n",
      "Epoch 12/15\n",
      "795/795 [==============================] - 6s 7ms/step - loss: 0.7226 - accuracy: 0.7138\n",
      "Epoch 13/15\n",
      "795/795 [==============================] - 6s 7ms/step - loss: 0.6574 - accuracy: 0.7418\n",
      "Epoch 14/15\n",
      "795/795 [==============================] - 6s 8ms/step - loss: 0.6003 - accuracy: 0.7656\n",
      "Epoch 15/15\n",
      "795/795 [==============================] - 6s 7ms/step - loss: 0.5398 - accuracy: 0.7895\n"
     ]
    },
    {
     "data": {
      "text/plain": [
       "<tensorflow.python.keras.callbacks.History at 0x2bd219b20>"
      ]
     },
     "execution_count": 11,
     "metadata": {},
     "output_type": "execute_result"
    }
   ],
   "source": [
    "from sklearn.model_selection import train_test_split\n",
    "y_train1, y_test1, X_train1, X_test1 = train_test_split(y1, X_list, test_size = 0.2) \n",
    "model1 = keras.Sequential([\n",
    "    keras.layers.Dense(1000, input_shape=(320,), activation='relu'),\n",
    "    keras.layers.Dense(1000, activation = 'relu'),\n",
    "    keras.layers.Dense(500, activation = 'relu'),\n",
    "    keras.layers.Dense(500, activation = 'relu'),\n",
    "    keras.layers.Dense(100, activation = 'relu'),\n",
    "    keras.layers.Dense(50, activation = 'relu'),\n",
    "    keras.layers.Dense(20, activation = 'relu'),\n",
    "    keras.layers.Dense(7, activation='sigmoid')\n",
    "])\n",
    "\n",
    "model1.compile(optimizer='adam',\n",
    "              loss='sparse_categorical_crossentropy',\n",
    "              metrics=['accuracy'])\n",
    "\n",
    "model1.fit(X_train1, y_train1, epochs=15)"
   ]
  },
  {
   "cell_type": "code",
   "execution_count": 22,
   "metadata": {
    "scrolled": false
   },
   "outputs": [
    {
     "name": "stderr",
     "output_type": "stream",
     "text": [
      "/Users/shashankkatiyar/miniforge3/envs/tensorflow/lib/python3.9/site-packages/tensorflow/python/keras/optimizer_v2/optimizer_v2.py:374: UserWarning: The `lr` argument is deprecated, use `learning_rate` instead.\n",
      "  warnings.warn(\n"
     ]
    },
    {
     "name": "stdout",
     "output_type": "stream",
     "text": [
      "Epoch 1/15\n"
     ]
    },
    {
     "name": "stderr",
     "output_type": "stream",
     "text": [
      "2022-06-16 19:28:00.299822: I tensorflow/core/grappler/optimizers/custom_graph_optimizer_registry.cc:112] Plugin optimizer for device_type GPU is enabled.\n"
     ]
    },
    {
     "name": "stdout",
     "output_type": "stream",
     "text": [
      "795/795 [==============================] - 7s 7ms/step - loss: 1.5446 - accuracy: 0.2919\n",
      "Epoch 2/15\n",
      "795/795 [==============================] - 6s 7ms/step - loss: 1.4628 - accuracy: 0.3390\n",
      "Epoch 3/15\n",
      "795/795 [==============================] - 6s 7ms/step - loss: 1.3860 - accuracy: 0.3942\n",
      "Epoch 4/15\n",
      "795/795 [==============================] - 6s 8ms/step - loss: 1.3180 - accuracy: 0.4351\n",
      "Epoch 5/15\n",
      "795/795 [==============================] - 6s 7ms/step - loss: 1.2419 - accuracy: 0.4807\n",
      "Epoch 6/15\n",
      "795/795 [==============================] - 7s 8ms/step - loss: 1.1669 - accuracy: 0.5200\n",
      "Epoch 7/15\n",
      "795/795 [==============================] - 6s 8ms/step - loss: 1.0754 - accuracy: 0.5653\n",
      "Epoch 8/15\n",
      "795/795 [==============================] - 6s 8ms/step - loss: 0.9874 - accuracy: 0.6029\n",
      "Epoch 9/15\n",
      "795/795 [==============================] - 6s 8ms/step - loss: 0.9058 - accuracy: 0.6412\n",
      "Epoch 10/15\n",
      "795/795 [==============================] - 6s 7ms/step - loss: 0.8032 - accuracy: 0.6869\n",
      "Epoch 11/15\n",
      "795/795 [==============================] - 6s 7ms/step - loss: 0.7353 - accuracy: 0.7162\n",
      "Epoch 12/15\n",
      "795/795 [==============================] - 6s 7ms/step - loss: 0.6644 - accuracy: 0.7449\n",
      "Epoch 13/15\n",
      "795/795 [==============================] - 6s 8ms/step - loss: 0.5864 - accuracy: 0.7781\n",
      "Epoch 14/15\n",
      "795/795 [==============================] - 6s 7ms/step - loss: 0.5200 - accuracy: 0.8060\n",
      "Epoch 15/15\n",
      "795/795 [==============================] - 6s 7ms/step - loss: 0.4721 - accuracy: 0.8239\n"
     ]
    },
    {
     "data": {
      "text/plain": [
       "<tensorflow.python.keras.callbacks.History at 0x2d9169490>"
      ]
     },
     "execution_count": 22,
     "metadata": {},
     "output_type": "execute_result"
    }
   ],
   "source": [
    "from sklearn.model_selection import train_test_split\n",
    "y_train2, y_test2, X_train2, X_test2 = train_test_split(y2, X_list, test_size = 0.2) \n",
    "from tensorflow.keras.optimizers import SGD\n",
    "model2 = keras.Sequential([\n",
    "    keras.layers.Dense(1000, input_shape=(320,), activation='relu'),\n",
    "    keras.layers.Dense(1000, activation = 'relu'),\n",
    "    keras.layers.Dense(500, activation = 'relu'),\n",
    "    keras.layers.Dense(500, activation = 'relu'),\n",
    "    keras.layers.Dense(100, activation = 'relu'),\n",
    "    keras.layers.Dense(50, activation = 'relu'),\n",
    "    keras.layers.Dense(20, activation = 'relu'),\n",
    "    keras.layers.Dense(7, activation='sigmoid')\n",
    "])\n",
    "opt = SGD(lr=0.01, momentum=0.9, clipvalue=0.5)\n",
    "model2.compile(optimizer=opt,\n",
    "              loss='sparse_categorical_crossentropy',\n",
    "              metrics=['accuracy'])\n",
    "\n",
    "model2.fit(X_train2, y_train2, epochs=15)"
   ]
  },
  {
   "cell_type": "code",
   "execution_count": 15,
   "metadata": {},
   "outputs": [
    {
     "name": "stderr",
     "output_type": "stream",
     "text": [
      "2022-06-16 19:21:42.495416: I tensorflow/core/grappler/optimizers/custom_graph_optimizer_registry.cc:112] Plugin optimizer for device_type GPU is enabled.\n"
     ]
    },
    {
     "name": "stdout",
     "output_type": "stream",
     "text": [
      "199/199 [==============================] - 2s 6ms/step - loss: 6.5205 - accuracy: 0.1802\n"
     ]
    },
    {
     "data": {
      "text/plain": [
       "[6.520516872406006, 0.18018867075443268]"
      ]
     },
     "execution_count": 15,
     "metadata": {},
     "output_type": "execute_result"
    }
   ],
   "source": [
    "model1.evaluate(X_test2,y_test2)"
   ]
  },
  {
   "cell_type": "code",
   "execution_count": 7,
   "metadata": {},
   "outputs": [
    {
     "name": "stdout",
     "output_type": "stream",
     "text": [
      "Epoch 1/15\n",
      " 7/27 [======>.......................] - ETA: 0s - loss: 0.5865 - accuracy: 0.9732"
     ]
    },
    {
     "name": "stderr",
     "output_type": "stream",
     "text": [
      "2022-06-16 01:04:44.416543: I tensorflow/core/grappler/optimizers/custom_graph_optimizer_registry.cc:112] Plugin optimizer for device_type GPU is enabled.\n"
     ]
    },
    {
     "name": "stdout",
     "output_type": "stream",
     "text": [
      "27/27 [==============================] - 0s 8ms/step - loss: 0.2430 - accuracy: 0.9907\n",
      "Epoch 2/15\n",
      "27/27 [==============================] - 0s 8ms/step - loss: 0.0358 - accuracy: 0.9965\n",
      "Epoch 3/15\n",
      "27/27 [==============================] - 0s 8ms/step - loss: 0.0244 - accuracy: 0.9965\n",
      "Epoch 4/15\n",
      "27/27 [==============================] - 0s 8ms/step - loss: 0.0233 - accuracy: 0.9965\n",
      "Epoch 5/15\n",
      "27/27 [==============================] - 0s 8ms/step - loss: 0.0184 - accuracy: 0.9965\n",
      "Epoch 6/15\n",
      "27/27 [==============================] - 0s 9ms/step - loss: 0.0094 - accuracy: 0.9965\n",
      "Epoch 7/15\n",
      "27/27 [==============================] - 0s 8ms/step - loss: 0.0065 - accuracy: 0.9965\n",
      "Epoch 8/15\n",
      "27/27 [==============================] - 0s 8ms/step - loss: 0.0061 - accuracy: 0.9965\n",
      "Epoch 9/15\n",
      "27/27 [==============================] - 0s 9ms/step - loss: 0.0034 - accuracy: 0.9988\n",
      "Epoch 10/15\n",
      "27/27 [==============================] - 0s 8ms/step - loss: 0.4192 - accuracy: 0.9595\n",
      "Epoch 11/15\n",
      "27/27 [==============================] - 0s 8ms/step - loss: 0.0586 - accuracy: 0.9965\n",
      "Epoch 12/15\n",
      "27/27 [==============================] - 0s 8ms/step - loss: 0.0613 - accuracy: 0.9965\n",
      "Epoch 13/15\n",
      "27/27 [==============================] - 0s 8ms/step - loss: 0.0287 - accuracy: 0.9965\n",
      "Epoch 14/15\n",
      "27/27 [==============================] - 0s 8ms/step - loss: 0.0313 - accuracy: 0.9965\n",
      "Epoch 15/15\n",
      "27/27 [==============================] - 0s 8ms/step - loss: 0.0191 - accuracy: 0.9965\n"
     ]
    },
    {
     "data": {
      "text/plain": [
       "<tensorflow.python.keras.callbacks.History at 0x17cf73a90>"
      ]
     },
     "execution_count": 7,
     "metadata": {},
     "output_type": "execute_result"
    }
   ],
   "source": [
    "from sklearn.model_selection import train_test_split\n",
    "y_train3, y_test3, X_train3, X_test3 = train_test_split(y3, X_list, test_size = 0.2) \n",
    "model3 = keras.Sequential([\n",
    "    keras.layers.Dense(1000, input_shape=(1280,), activation='relu'),\n",
    "    keras.layers.Dense(1000, activation = 'relu'),\n",
    "    keras.layers.Dense(500, activation = 'relu'),\n",
    "    keras.layers.Dense(500, activation = 'relu'),\n",
    "    keras.layers.Dense(100, activation = 'relu'),\n",
    "    keras.layers.Dense(50, activation = 'relu'),\n",
    "    keras.layers.Dense(20, activation = 'relu'),\n",
    "    keras.layers.Dense(7, activation='sigmoid')\n",
    "])\n",
    "\n",
    "model3.compile(optimizer='adam',\n",
    "              loss='sparse_categorical_crossentropy',\n",
    "              metrics=['accuracy'])\n",
    "\n",
    "model3.fit(X_train3, y_train3, epochs=15)"
   ]
  },
  {
   "cell_type": "code",
   "execution_count": 25,
   "metadata": {},
   "outputs": [
    {
     "data": {
      "text/plain": [
       "(1080, 1280)"
      ]
     },
     "execution_count": 25,
     "metadata": {},
     "output_type": "execute_result"
    }
   ],
   "source": [
    "X.shape"
   ]
  },
  {
   "cell_type": "code",
   "execution_count": 33,
   "metadata": {},
   "outputs": [
    {
     "data": {
      "text/plain": [
       "array([21, 31, 93, ..., 26, 18, 20])"
      ]
     },
     "execution_count": 33,
     "metadata": {},
     "output_type": "execute_result"
    }
   ],
   "source": [
    "X[0]"
   ]
  },
  {
   "cell_type": "code",
   "execution_count": 34,
   "metadata": {},
   "outputs": [
    {
     "name": "stderr",
     "output_type": "stream",
     "text": [
      "2022-06-15 23:47:51.680620: I tensorflow/core/grappler/optimizers/custom_graph_optimizer_registry.cc:112] Plugin optimizer for device_type GPU is enabled.\n"
     ]
    },
    {
     "data": {
      "text/plain": [
       "[0.6289454102516174, 0.6724537014961243]"
      ]
     },
     "execution_count": 34,
     "metadata": {},
     "output_type": "execute_result"
    }
   ],
   "source": [
    "model1.test_on_batch(X)"
   ]
  },
  {
   "cell_type": "code",
   "execution_count": 63,
   "metadata": {},
   "outputs": [
    {
     "data": {
      "text/plain": [
       "array([[0.68691725, 0.8137793 , 0.77220684, 0.9091423 , 0.92654246,\n",
       "        0.05963868, 0.0027196 ]], dtype=float32)"
      ]
     },
     "execution_count": 63,
     "metadata": {},
     "output_type": "execute_result"
    }
   ],
   "source": [
    "model1.predict(temp[[0]])"
   ]
  },
  {
   "cell_type": "code",
   "execution_count": 49,
   "metadata": {},
   "outputs": [],
   "source": [
    "temp = np.array(X_test1)"
   ]
  },
  {
   "cell_type": "code",
   "execution_count": 52,
   "metadata": {},
   "outputs": [
    {
     "data": {
      "text/plain": [
       "array([0.11372549, 0.0745098 , 0.09019608, ..., 0.04313725, 0.08627451,\n",
       "       0.12941176])"
      ]
     },
     "execution_count": 52,
     "metadata": {},
     "output_type": "execute_result"
    }
   ],
   "source": [
    "temp[0]"
   ]
  },
  {
   "cell_type": "code",
   "execution_count": 62,
   "metadata": {},
   "outputs": [
    {
     "data": {
      "text/plain": [
       "array([[0.11372549, 0.0745098 , 0.09019608, ..., 0.04313725, 0.08627451,\n",
       "        0.12941176]])"
      ]
     },
     "execution_count": 62,
     "metadata": {},
     "output_type": "execute_result"
    }
   ],
   "source": [
    "temp[[0]]"
   ]
  },
  {
   "cell_type": "code",
   "execution_count": null,
   "metadata": {},
   "outputs": [],
   "source": []
  }
 ],
 "metadata": {
  "kernelspec": {
   "display_name": "Python 3.9 (tensorflow)",
   "language": "python",
   "name": "tensorflow"
  },
  "language_info": {
   "codemirror_mode": {
    "name": "ipython",
    "version": 3
   },
   "file_extension": ".py",
   "mimetype": "text/x-python",
   "name": "python",
   "nbconvert_exporter": "python",
   "pygments_lexer": "ipython3",
   "version": "3.9.13"
  },
  "vscode": {
   "interpreter": {
    "hash": "5edc29c2ed010d6458d71a83433b383a96a8cbd3efe8531bc90c4b8a5b8bcec9"
   }
  }
 },
 "nbformat": 4,
 "nbformat_minor": 2
}
